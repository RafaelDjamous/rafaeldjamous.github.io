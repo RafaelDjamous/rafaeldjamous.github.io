{
  "cells": [
    {
      "cell_type": "markdown",
      "metadata": {
        "id": "eRYYeCHp_L_k"
      },
      "source": [
        " # Data from Kaggle and the Five Thirty Eight Websites"
      ]
    },
    {
      "cell_type": "markdown",
      "metadata": {
        "id": "1NXEf2hgAjEf"
      },
      "source": [
        "## Rafael Djamous "
      ]
    },
    {
      "cell_type": "markdown",
      "metadata": {
        "id": "oFkH3tKRE1oQ"
      },
      "source": [
        "https://rafaeldjamous.github.io\n",
        "\n"
      ]
    },
    {
      "cell_type": "markdown",
      "metadata": {
        "id": "K3hsg0Q7_LXN"
      },
      "source": [
        "https://github.com/RafaelDjamous/rafaeldjamous.github.io"
      ]
    },
    {
      "cell_type": "markdown",
      "metadata": {
        "id": "L16DeJhQ9sfi"
      },
      "source": [
        "# Overview"
      ]
    },
    {
      "cell_type": "markdown",
      "metadata": {
        "id": "WBIHXFw09sfk"
      },
      "source": [
        "In the project, I focused on the sources that provided us with interesting data as well as those that would easily be extracted. I finally chose to settle with data from Kaggle and the Five Thirty Eight websites. The extraction methods for the data from these sites is different so let us look at them one at a time. "
      ]
    },
    {
      "cell_type": "markdown",
      "metadata": {
        "id": "Ug9AyN8a9sfk"
      },
      "source": [
        "### Five Thirty Eight website"
      ]
    },
    {
      "cell_type": "markdown",
      "metadata": {
        "id": "T81SiCLZ9sfk"
      },
      "source": [
        "The data obtained from this website was the National Hockey League (NHL) data. It contains data for the team ratings, match ratings and scores between different teams among others. The website provides a link the csv file; we therefore read the file directly using the read_csv method of Pandas.  Our main interest was to find out the highest rated games in NHL. We did this by ranking sorting the dataframe based on the 'game_overall_rating' column and taking the first 10 samples of the sorted data using the ‘head’ method of a Pandas dataframe. "
      ]
    },
    {
      "cell_type": "markdown",
      "metadata": {
        "id": "8FvajR3Z9sfk"
      },
      "source": [
        "We then plotted a bar graph to show the overall game ratings using matplotlib library. Below is the output. "
      ]
    },
    {
      "cell_type": "markdown",
      "metadata": {
        "id": "9vUYn6YH9sfk"
      },
      "source": [
        "![OverallGameRatings](OverallGameRatings.png)"
      ]
    },
    {
      "cell_type": "markdown",
      "metadata": {
        "id": "HaEmlLd29sfl"
      },
      "source": [
        "Further, we were able to note from the data, that the higher the game quality and the game importance ratings, the higher the game overall rating. "
      ]
    },
    {
      "cell_type": "markdown",
      "metadata": {
        "id": "2weMq6r59sfl"
      },
      "source": [
        "### Kaggle"
      ]
    },
    {
      "cell_type": "markdown",
      "metadata": {
        "id": "x1uO0EOy9sfl"
      },
      "source": [
        "The data obtained from Kaggle is the World happiness data. It contains data such as the Overall rank, Country or region, Score, GDP per capita, Social support, Healthy life expectancy, Freedom to make life choices, Generosity and Perceptions of corruption. "
      ]
    },
    {
      "cell_type": "markdown",
      "metadata": {
        "id": "DsqzCe5k9sfl"
      },
      "source": [
        "Extraction of data from Kaggle is quite different when compared to the Four Thirty Eight website. We make use of the opendatasets library to download the dataset from Kaggle. This prompts us to provide the details like the Kaggle username and the key, we are obtained in a json file downloaded from Kaggle under the ‘Account’ option. After provideng these details, the dataset is downloaded and exracted to our working directory. From here, we can then read the csv file using the read_csv method of Pandas. "
      ]
    },
    {
      "cell_type": "markdown",
      "metadata": {
        "id": "25O75IlF9sfm"
      },
      "source": [
        "Our main interest here was to find the correlation between the happiness score and the GDP per capita. To investigate this, we made a scatterplot using seaborn and this included a regression line. The output graph showed that the two are directly proportional in most parts of the world. Below is the output graph:"
      ]
    },
    {
      "cell_type": "markdown",
      "metadata": {
        "id": "ebHdrtjR9sfm"
      },
      "source": [
        "![HapinessScoreVsGDP](HapinessScoreVsGDP.png)"
      ]
    },
    {
      "cell_type": "markdown",
      "metadata": {
        "id": "bkzzv6HP9sfm"
      },
      "source": [
        "We also noted that, in the countries that the freedom to make life choices was high, the happiness score was also high."
      ]
    },
    {
      "cell_type": "markdown",
      "metadata": {
        "id": "Fv5eFWtq9sfm"
      },
      "source": [
        "### Challenges Faced"
      ]
    },
    {
      "cell_type": "markdown",
      "metadata": {
        "id": "HlOgNSJ49sfm"
      },
      "source": [
        "The main challenge we faced was in the extraction of data from Kaggle since we did not know that a json file from Kaggle was required so as to download the data."
      ]
    },
    {
      "cell_type": "markdown",
      "metadata": {
        "id": "6ThzIg8a9sfn"
      },
      "source": [
        "# Code"
      ]
    },
    {
      "cell_type": "code",
      "execution_count": null,
      "metadata": {
        "id": "VjB_ajs29sfn"
      },
      "outputs": [],
      "source": [
        "import pandas as pd\n",
        "import matplotlib.pyplot as plt\n",
        "import seaborn as sns"
      ]
    },
    {
      "cell_type": "markdown",
      "metadata": {
        "id": "sqB2SOAS9sfn"
      },
      "source": [
        "### Data from FiveThirtyEight website"
      ]
    },
    {
      "cell_type": "code",
      "execution_count": null,
      "metadata": {
        "colab": {
          "base_uri": "https://localhost:8080/",
          "height": 404
        },
        "id": "1jkXiKa99sfn",
        "outputId": "8820451f-f2a1-4f1f-8ad4-a9508febf3da"
      },
      "outputs": [
        {
          "data": {
            "text/html": [
              "\n",
              "  <div id=\"df-cf7a7580-3df1-4075-b3bf-269e5bf6cb5e\">\n",
              "    <div class=\"colab-df-container\">\n",
              "      <div>\n",
              "<style scoped>\n",
              "    .dataframe tbody tr th:only-of-type {\n",
              "        vertical-align: middle;\n",
              "    }\n",
              "\n",
              "    .dataframe tbody tr th {\n",
              "        vertical-align: top;\n",
              "    }\n",
              "\n",
              "    .dataframe thead th {\n",
              "        text-align: right;\n",
              "    }\n",
              "</style>\n",
              "<table border=\"1\" class=\"dataframe\">\n",
              "  <thead>\n",
              "    <tr style=\"text-align: right;\">\n",
              "      <th></th>\n",
              "      <th>season</th>\n",
              "      <th>date</th>\n",
              "      <th>playoff</th>\n",
              "      <th>neutral</th>\n",
              "      <th>status</th>\n",
              "      <th>ot</th>\n",
              "      <th>home_team</th>\n",
              "      <th>away_team</th>\n",
              "      <th>home_team_abbr</th>\n",
              "      <th>away_team_abbr</th>\n",
              "      <th>...</th>\n",
              "      <th>overtime_prob</th>\n",
              "      <th>home_team_expected_points</th>\n",
              "      <th>away_team_expected_points</th>\n",
              "      <th>home_team_score</th>\n",
              "      <th>away_team_score</th>\n",
              "      <th>home_team_postgame_rating</th>\n",
              "      <th>away_team_postgame_rating</th>\n",
              "      <th>game_quality_rating</th>\n",
              "      <th>game_importance_rating</th>\n",
              "      <th>game_overall_rating</th>\n",
              "    </tr>\n",
              "  </thead>\n",
              "  <tbody>\n",
              "    <tr>\n",
              "      <th>0</th>\n",
              "      <td>2023</td>\n",
              "      <td>2022-10-07</td>\n",
              "      <td>0</td>\n",
              "      <td>1</td>\n",
              "      <td>post</td>\n",
              "      <td>NaN</td>\n",
              "      <td>Nashville Predators</td>\n",
              "      <td>San Jose Sharks</td>\n",
              "      <td>NSH</td>\n",
              "      <td>SJS</td>\n",
              "      <td>...</td>\n",
              "      <td>0.234345</td>\n",
              "      <td>1.258314</td>\n",
              "      <td>0.976030</td>\n",
              "      <td>4.0</td>\n",
              "      <td>1.0</td>\n",
              "      <td>1510.044255</td>\n",
              "      <td>1446.464381</td>\n",
              "      <td>15</td>\n",
              "      <td>41</td>\n",
              "      <td>28</td>\n",
              "    </tr>\n",
              "    <tr>\n",
              "      <th>1</th>\n",
              "      <td>2023</td>\n",
              "      <td>2022-10-08</td>\n",
              "      <td>0</td>\n",
              "      <td>1</td>\n",
              "      <td>post</td>\n",
              "      <td>NaN</td>\n",
              "      <td>San Jose Sharks</td>\n",
              "      <td>Nashville Predators</td>\n",
              "      <td>SJS</td>\n",
              "      <td>NSH</td>\n",
              "      <td>...</td>\n",
              "      <td>0.233053</td>\n",
              "      <td>0.956634</td>\n",
              "      <td>1.276419</td>\n",
              "      <td>2.0</td>\n",
              "      <td>3.0</td>\n",
              "      <td>1444.546428</td>\n",
              "      <td>1511.962208</td>\n",
              "      <td>15</td>\n",
              "      <td>43</td>\n",
              "      <td>29</td>\n",
              "    </tr>\n",
              "    <tr>\n",
              "      <th>2</th>\n",
              "      <td>2023</td>\n",
              "      <td>2022-10-11</td>\n",
              "      <td>0</td>\n",
              "      <td>0</td>\n",
              "      <td>post</td>\n",
              "      <td>NaN</td>\n",
              "      <td>New York Rangers</td>\n",
              "      <td>Tampa Bay Lightning</td>\n",
              "      <td>NYR</td>\n",
              "      <td>TBL</td>\n",
              "      <td>...</td>\n",
              "      <td>0.238935</td>\n",
              "      <td>1.193826</td>\n",
              "      <td>1.045109</td>\n",
              "      <td>3.0</td>\n",
              "      <td>1.0</td>\n",
              "      <td>1554.002969</td>\n",
              "      <td>1567.724755</td>\n",
              "      <td>97</td>\n",
              "      <td>24</td>\n",
              "      <td>60</td>\n",
              "    </tr>\n",
              "    <tr>\n",
              "      <th>3</th>\n",
              "      <td>2023</td>\n",
              "      <td>2022-10-11</td>\n",
              "      <td>0</td>\n",
              "      <td>0</td>\n",
              "      <td>post</td>\n",
              "      <td>NaN</td>\n",
              "      <td>Los Angeles Kings</td>\n",
              "      <td>Vegas Golden Knights</td>\n",
              "      <td>LAK</td>\n",
              "      <td>VEG</td>\n",
              "      <td>...</td>\n",
              "      <td>0.240107</td>\n",
              "      <td>1.177400</td>\n",
              "      <td>1.062707</td>\n",
              "      <td>3.0</td>\n",
              "      <td>4.0</td>\n",
              "      <td>1498.528556</td>\n",
              "      <td>1531.054886</td>\n",
              "      <td>60</td>\n",
              "      <td>77</td>\n",
              "      <td>68</td>\n",
              "    </tr>\n",
              "    <tr>\n",
              "      <th>4</th>\n",
              "      <td>2023</td>\n",
              "      <td>2022-10-12</td>\n",
              "      <td>0</td>\n",
              "      <td>0</td>\n",
              "      <td>post</td>\n",
              "      <td>NaN</td>\n",
              "      <td>Washington Capitals</td>\n",
              "      <td>Boston Bruins</td>\n",
              "      <td>WSH</td>\n",
              "      <td>BOS</td>\n",
              "      <td>...</td>\n",
              "      <td>0.239010</td>\n",
              "      <td>1.192780</td>\n",
              "      <td>1.046230</td>\n",
              "      <td>2.0</td>\n",
              "      <td>5.0</td>\n",
              "      <td>1521.075399</td>\n",
              "      <td>1552.242965</td>\n",
              "      <td>84</td>\n",
              "      <td>54</td>\n",
              "      <td>69</td>\n",
              "    </tr>\n",
              "  </tbody>\n",
              "</table>\n",
              "<p>5 rows × 24 columns</p>\n",
              "</div>\n",
              "      <button class=\"colab-df-convert\" onclick=\"convertToInteractive('df-cf7a7580-3df1-4075-b3bf-269e5bf6cb5e')\"\n",
              "              title=\"Convert this dataframe to an interactive table.\"\n",
              "              style=\"display:none;\">\n",
              "        \n",
              "  <svg xmlns=\"http://www.w3.org/2000/svg\" height=\"24px\"viewBox=\"0 0 24 24\"\n",
              "       width=\"24px\">\n",
              "    <path d=\"M0 0h24v24H0V0z\" fill=\"none\"/>\n",
              "    <path d=\"M18.56 5.44l.94 2.06.94-2.06 2.06-.94-2.06-.94-.94-2.06-.94 2.06-2.06.94zm-11 1L8.5 8.5l.94-2.06 2.06-.94-2.06-.94L8.5 2.5l-.94 2.06-2.06.94zm10 10l.94 2.06.94-2.06 2.06-.94-2.06-.94-.94-2.06-.94 2.06-2.06.94z\"/><path d=\"M17.41 7.96l-1.37-1.37c-.4-.4-.92-.59-1.43-.59-.52 0-1.04.2-1.43.59L10.3 9.45l-7.72 7.72c-.78.78-.78 2.05 0 2.83L4 21.41c.39.39.9.59 1.41.59.51 0 1.02-.2 1.41-.59l7.78-7.78 2.81-2.81c.8-.78.8-2.07 0-2.86zM5.41 20L4 18.59l7.72-7.72 1.47 1.35L5.41 20z\"/>\n",
              "  </svg>\n",
              "      </button>\n",
              "      \n",
              "  <style>\n",
              "    .colab-df-container {\n",
              "      display:flex;\n",
              "      flex-wrap:wrap;\n",
              "      gap: 12px;\n",
              "    }\n",
              "\n",
              "    .colab-df-convert {\n",
              "      background-color: #E8F0FE;\n",
              "      border: none;\n",
              "      border-radius: 50%;\n",
              "      cursor: pointer;\n",
              "      display: none;\n",
              "      fill: #1967D2;\n",
              "      height: 32px;\n",
              "      padding: 0 0 0 0;\n",
              "      width: 32px;\n",
              "    }\n",
              "\n",
              "    .colab-df-convert:hover {\n",
              "      background-color: #E2EBFA;\n",
              "      box-shadow: 0px 1px 2px rgba(60, 64, 67, 0.3), 0px 1px 3px 1px rgba(60, 64, 67, 0.15);\n",
              "      fill: #174EA6;\n",
              "    }\n",
              "\n",
              "    [theme=dark] .colab-df-convert {\n",
              "      background-color: #3B4455;\n",
              "      fill: #D2E3FC;\n",
              "    }\n",
              "\n",
              "    [theme=dark] .colab-df-convert:hover {\n",
              "      background-color: #434B5C;\n",
              "      box-shadow: 0px 1px 3px 1px rgba(0, 0, 0, 0.15);\n",
              "      filter: drop-shadow(0px 1px 2px rgba(0, 0, 0, 0.3));\n",
              "      fill: #FFFFFF;\n",
              "    }\n",
              "  </style>\n",
              "\n",
              "      <script>\n",
              "        const buttonEl =\n",
              "          document.querySelector('#df-cf7a7580-3df1-4075-b3bf-269e5bf6cb5e button.colab-df-convert');\n",
              "        buttonEl.style.display =\n",
              "          google.colab.kernel.accessAllowed ? 'block' : 'none';\n",
              "\n",
              "        async function convertToInteractive(key) {\n",
              "          const element = document.querySelector('#df-cf7a7580-3df1-4075-b3bf-269e5bf6cb5e');\n",
              "          const dataTable =\n",
              "            await google.colab.kernel.invokeFunction('convertToInteractive',\n",
              "                                                     [key], {});\n",
              "          if (!dataTable) return;\n",
              "\n",
              "          const docLinkHtml = 'Like what you see? Visit the ' +\n",
              "            '<a target=\"_blank\" href=https://colab.research.google.com/notebooks/data_table.ipynb>data table notebook</a>'\n",
              "            + ' to learn more about interactive tables.';\n",
              "          element.innerHTML = '';\n",
              "          dataTable['output_type'] = 'display_data';\n",
              "          await google.colab.output.renderOutput(dataTable, element);\n",
              "          const docLink = document.createElement('div');\n",
              "          docLink.innerHTML = docLinkHtml;\n",
              "          element.appendChild(docLink);\n",
              "        }\n",
              "      </script>\n",
              "    </div>\n",
              "  </div>\n",
              "  "
            ],
            "text/plain": [
              "   season        date  playoff  neutral status   ot            home_team  \\\n",
              "0    2023  2022-10-07        0        1   post  NaN  Nashville Predators   \n",
              "1    2023  2022-10-08        0        1   post  NaN      San Jose Sharks   \n",
              "2    2023  2022-10-11        0        0   post  NaN     New York Rangers   \n",
              "3    2023  2022-10-11        0        0   post  NaN    Los Angeles Kings   \n",
              "4    2023  2022-10-12        0        0   post  NaN  Washington Capitals   \n",
              "\n",
              "              away_team home_team_abbr away_team_abbr  ...  overtime_prob  \\\n",
              "0       San Jose Sharks            NSH            SJS  ...       0.234345   \n",
              "1   Nashville Predators            SJS            NSH  ...       0.233053   \n",
              "2   Tampa Bay Lightning            NYR            TBL  ...       0.238935   \n",
              "3  Vegas Golden Knights            LAK            VEG  ...       0.240107   \n",
              "4         Boston Bruins            WSH            BOS  ...       0.239010   \n",
              "\n",
              "   home_team_expected_points  away_team_expected_points  home_team_score  \\\n",
              "0                   1.258314                   0.976030              4.0   \n",
              "1                   0.956634                   1.276419              2.0   \n",
              "2                   1.193826                   1.045109              3.0   \n",
              "3                   1.177400                   1.062707              3.0   \n",
              "4                   1.192780                   1.046230              2.0   \n",
              "\n",
              "   away_team_score  home_team_postgame_rating  away_team_postgame_rating  \\\n",
              "0              1.0                1510.044255                1446.464381   \n",
              "1              3.0                1444.546428                1511.962208   \n",
              "2              1.0                1554.002969                1567.724755   \n",
              "3              4.0                1498.528556                1531.054886   \n",
              "4              5.0                1521.075399                1552.242965   \n",
              "\n",
              "   game_quality_rating  game_importance_rating  game_overall_rating  \n",
              "0                   15                      41                   28  \n",
              "1                   15                      43                   29  \n",
              "2                   97                      24                   60  \n",
              "3                   60                      77                   68  \n",
              "4                   84                      54                   69  \n",
              "\n",
              "[5 rows x 24 columns]"
            ]
          },
          "execution_count": 2,
          "metadata": {},
          "output_type": "execute_result"
        }
      ],
      "source": [
        "# Data from FiveThirtyEight website\n",
        "# We want to investigate the top 10 games that have got the highest overall ratings\n",
        "nhl_url = 'https://projects.fivethirtyeight.com/nhl-api/nhl_elo_latest.csv'\n",
        "nhl_df = pd.read_csv(nhl_url)\n",
        "nhl_df.head()"
      ]
    },
    {
      "cell_type": "code",
      "execution_count": null,
      "metadata": {
        "colab": {
          "base_uri": "https://localhost:8080/",
          "height": 386
        },
        "id": "PGM9oP4G9sfo",
        "outputId": "7911f115-056e-497c-a84c-d9a33ff2ca3d"
      },
      "outputs": [
        {
          "data": {
            "text/html": [
              "\n",
              "  <div id=\"df-7d6d8f86-2427-44ce-874c-3e890823586d\">\n",
              "    <div class=\"colab-df-container\">\n",
              "      <div>\n",
              "<style scoped>\n",
              "    .dataframe tbody tr th:only-of-type {\n",
              "        vertical-align: middle;\n",
              "    }\n",
              "\n",
              "    .dataframe tbody tr th {\n",
              "        vertical-align: top;\n",
              "    }\n",
              "\n",
              "    .dataframe thead th {\n",
              "        text-align: right;\n",
              "    }\n",
              "</style>\n",
              "<table border=\"1\" class=\"dataframe\">\n",
              "  <thead>\n",
              "    <tr style=\"text-align: right;\">\n",
              "      <th></th>\n",
              "      <th>season</th>\n",
              "      <th>date</th>\n",
              "      <th>playoff</th>\n",
              "      <th>neutral</th>\n",
              "      <th>status</th>\n",
              "      <th>ot</th>\n",
              "      <th>home_team</th>\n",
              "      <th>away_team</th>\n",
              "      <th>home_team_abbr</th>\n",
              "      <th>away_team_abbr</th>\n",
              "      <th>...</th>\n",
              "      <th>overtime_prob</th>\n",
              "      <th>home_team_expected_points</th>\n",
              "      <th>away_team_expected_points</th>\n",
              "      <th>home_team_score</th>\n",
              "      <th>away_team_score</th>\n",
              "      <th>home_team_postgame_rating</th>\n",
              "      <th>away_team_postgame_rating</th>\n",
              "      <th>game_quality_rating</th>\n",
              "      <th>game_importance_rating</th>\n",
              "      <th>game_overall_rating</th>\n",
              "    </tr>\n",
              "  </thead>\n",
              "  <tbody>\n",
              "    <tr>\n",
              "      <th>819</th>\n",
              "      <td>2023</td>\n",
              "      <td>2023-02-08</td>\n",
              "      <td>0</td>\n",
              "      <td>0</td>\n",
              "      <td>pre</td>\n",
              "      <td>NaN</td>\n",
              "      <td>Dallas Stars</td>\n",
              "      <td>Minnesota Wild</td>\n",
              "      <td>DAL</td>\n",
              "      <td>MIN</td>\n",
              "      <td>...</td>\n",
              "      <td>0.238057</td>\n",
              "      <td>1.206162</td>\n",
              "      <td>1.031894</td>\n",
              "      <td>NaN</td>\n",
              "      <td>NaN</td>\n",
              "      <td>NaN</td>\n",
              "      <td>NaN</td>\n",
              "      <td>75</td>\n",
              "      <td>94</td>\n",
              "      <td>84</td>\n",
              "    </tr>\n",
              "    <tr>\n",
              "      <th>392</th>\n",
              "      <td>2023</td>\n",
              "      <td>2022-12-04</td>\n",
              "      <td>0</td>\n",
              "      <td>0</td>\n",
              "      <td>pre</td>\n",
              "      <td>NaN</td>\n",
              "      <td>Dallas Stars</td>\n",
              "      <td>Minnesota Wild</td>\n",
              "      <td>DAL</td>\n",
              "      <td>MIN</td>\n",
              "      <td>...</td>\n",
              "      <td>0.238057</td>\n",
              "      <td>1.206162</td>\n",
              "      <td>1.031894</td>\n",
              "      <td>NaN</td>\n",
              "      <td>NaN</td>\n",
              "      <td>NaN</td>\n",
              "      <td>NaN</td>\n",
              "      <td>75</td>\n",
              "      <td>91</td>\n",
              "      <td>83</td>\n",
              "    </tr>\n",
              "    <tr>\n",
              "      <th>1257</th>\n",
              "      <td>2023</td>\n",
              "      <td>2023-04-08</td>\n",
              "      <td>0</td>\n",
              "      <td>0</td>\n",
              "      <td>pre</td>\n",
              "      <td>NaN</td>\n",
              "      <td>Minnesota Wild</td>\n",
              "      <td>St. Louis Blues</td>\n",
              "      <td>MIN</td>\n",
              "      <td>STL</td>\n",
              "      <td>...</td>\n",
              "      <td>0.238333</td>\n",
              "      <td>1.202284</td>\n",
              "      <td>1.036049</td>\n",
              "      <td>NaN</td>\n",
              "      <td>NaN</td>\n",
              "      <td>NaN</td>\n",
              "      <td>NaN</td>\n",
              "      <td>90</td>\n",
              "      <td>75</td>\n",
              "      <td>82</td>\n",
              "    </tr>\n",
              "    <tr>\n",
              "      <th>1021</th>\n",
              "      <td>2023</td>\n",
              "      <td>2023-03-08</td>\n",
              "      <td>0</td>\n",
              "      <td>0</td>\n",
              "      <td>pre</td>\n",
              "      <td>NaN</td>\n",
              "      <td>Winnipeg Jets</td>\n",
              "      <td>Minnesota Wild</td>\n",
              "      <td>WPG</td>\n",
              "      <td>MIN</td>\n",
              "      <td>...</td>\n",
              "      <td>0.240026</td>\n",
              "      <td>1.178533</td>\n",
              "      <td>1.061493</td>\n",
              "      <td>NaN</td>\n",
              "      <td>NaN</td>\n",
              "      <td>NaN</td>\n",
              "      <td>NaN</td>\n",
              "      <td>68</td>\n",
              "      <td>97</td>\n",
              "      <td>82</td>\n",
              "    </tr>\n",
              "    <tr>\n",
              "      <th>770</th>\n",
              "      <td>2023</td>\n",
              "      <td>2023-01-26</td>\n",
              "      <td>0</td>\n",
              "      <td>0</td>\n",
              "      <td>pre</td>\n",
              "      <td>NaN</td>\n",
              "      <td>Washington Capitals</td>\n",
              "      <td>Pittsburgh Penguins</td>\n",
              "      <td>WSH</td>\n",
              "      <td>PIT</td>\n",
              "      <td>...</td>\n",
              "      <td>0.239031</td>\n",
              "      <td>1.192483</td>\n",
              "      <td>1.046548</td>\n",
              "      <td>NaN</td>\n",
              "      <td>NaN</td>\n",
              "      <td>NaN</td>\n",
              "      <td>NaN</td>\n",
              "      <td>80</td>\n",
              "      <td>84</td>\n",
              "      <td>82</td>\n",
              "    </tr>\n",
              "  </tbody>\n",
              "</table>\n",
              "<p>5 rows × 24 columns</p>\n",
              "</div>\n",
              "      <button class=\"colab-df-convert\" onclick=\"convertToInteractive('df-7d6d8f86-2427-44ce-874c-3e890823586d')\"\n",
              "              title=\"Convert this dataframe to an interactive table.\"\n",
              "              style=\"display:none;\">\n",
              "        \n",
              "  <svg xmlns=\"http://www.w3.org/2000/svg\" height=\"24px\"viewBox=\"0 0 24 24\"\n",
              "       width=\"24px\">\n",
              "    <path d=\"M0 0h24v24H0V0z\" fill=\"none\"/>\n",
              "    <path d=\"M18.56 5.44l.94 2.06.94-2.06 2.06-.94-2.06-.94-.94-2.06-.94 2.06-2.06.94zm-11 1L8.5 8.5l.94-2.06 2.06-.94-2.06-.94L8.5 2.5l-.94 2.06-2.06.94zm10 10l.94 2.06.94-2.06 2.06-.94-2.06-.94-.94-2.06-.94 2.06-2.06.94z\"/><path d=\"M17.41 7.96l-1.37-1.37c-.4-.4-.92-.59-1.43-.59-.52 0-1.04.2-1.43.59L10.3 9.45l-7.72 7.72c-.78.78-.78 2.05 0 2.83L4 21.41c.39.39.9.59 1.41.59.51 0 1.02-.2 1.41-.59l7.78-7.78 2.81-2.81c.8-.78.8-2.07 0-2.86zM5.41 20L4 18.59l7.72-7.72 1.47 1.35L5.41 20z\"/>\n",
              "  </svg>\n",
              "      </button>\n",
              "      \n",
              "  <style>\n",
              "    .colab-df-container {\n",
              "      display:flex;\n",
              "      flex-wrap:wrap;\n",
              "      gap: 12px;\n",
              "    }\n",
              "\n",
              "    .colab-df-convert {\n",
              "      background-color: #E8F0FE;\n",
              "      border: none;\n",
              "      border-radius: 50%;\n",
              "      cursor: pointer;\n",
              "      display: none;\n",
              "      fill: #1967D2;\n",
              "      height: 32px;\n",
              "      padding: 0 0 0 0;\n",
              "      width: 32px;\n",
              "    }\n",
              "\n",
              "    .colab-df-convert:hover {\n",
              "      background-color: #E2EBFA;\n",
              "      box-shadow: 0px 1px 2px rgba(60, 64, 67, 0.3), 0px 1px 3px 1px rgba(60, 64, 67, 0.15);\n",
              "      fill: #174EA6;\n",
              "    }\n",
              "\n",
              "    [theme=dark] .colab-df-convert {\n",
              "      background-color: #3B4455;\n",
              "      fill: #D2E3FC;\n",
              "    }\n",
              "\n",
              "    [theme=dark] .colab-df-convert:hover {\n",
              "      background-color: #434B5C;\n",
              "      box-shadow: 0px 1px 3px 1px rgba(0, 0, 0, 0.15);\n",
              "      filter: drop-shadow(0px 1px 2px rgba(0, 0, 0, 0.3));\n",
              "      fill: #FFFFFF;\n",
              "    }\n",
              "  </style>\n",
              "\n",
              "      <script>\n",
              "        const buttonEl =\n",
              "          document.querySelector('#df-7d6d8f86-2427-44ce-874c-3e890823586d button.colab-df-convert');\n",
              "        buttonEl.style.display =\n",
              "          google.colab.kernel.accessAllowed ? 'block' : 'none';\n",
              "\n",
              "        async function convertToInteractive(key) {\n",
              "          const element = document.querySelector('#df-7d6d8f86-2427-44ce-874c-3e890823586d');\n",
              "          const dataTable =\n",
              "            await google.colab.kernel.invokeFunction('convertToInteractive',\n",
              "                                                     [key], {});\n",
              "          if (!dataTable) return;\n",
              "\n",
              "          const docLinkHtml = 'Like what you see? Visit the ' +\n",
              "            '<a target=\"_blank\" href=https://colab.research.google.com/notebooks/data_table.ipynb>data table notebook</a>'\n",
              "            + ' to learn more about interactive tables.';\n",
              "          element.innerHTML = '';\n",
              "          dataTable['output_type'] = 'display_data';\n",
              "          await google.colab.output.renderOutput(dataTable, element);\n",
              "          const docLink = document.createElement('div');\n",
              "          docLink.innerHTML = docLinkHtml;\n",
              "          element.appendChild(docLink);\n",
              "        }\n",
              "      </script>\n",
              "    </div>\n",
              "  </div>\n",
              "  "
            ],
            "text/plain": [
              "      season        date  playoff  neutral status   ot            home_team  \\\n",
              "819     2023  2023-02-08        0        0    pre  NaN         Dallas Stars   \n",
              "392     2023  2022-12-04        0        0    pre  NaN         Dallas Stars   \n",
              "1257    2023  2023-04-08        0        0    pre  NaN       Minnesota Wild   \n",
              "1021    2023  2023-03-08        0        0    pre  NaN        Winnipeg Jets   \n",
              "770     2023  2023-01-26        0        0    pre  NaN  Washington Capitals   \n",
              "\n",
              "                away_team home_team_abbr away_team_abbr  ...  overtime_prob  \\\n",
              "819        Minnesota Wild            DAL            MIN  ...       0.238057   \n",
              "392        Minnesota Wild            DAL            MIN  ...       0.238057   \n",
              "1257      St. Louis Blues            MIN            STL  ...       0.238333   \n",
              "1021       Minnesota Wild            WPG            MIN  ...       0.240026   \n",
              "770   Pittsburgh Penguins            WSH            PIT  ...       0.239031   \n",
              "\n",
              "      home_team_expected_points  away_team_expected_points  home_team_score  \\\n",
              "819                    1.206162                   1.031894              NaN   \n",
              "392                    1.206162                   1.031894              NaN   \n",
              "1257                   1.202284                   1.036049              NaN   \n",
              "1021                   1.178533                   1.061493              NaN   \n",
              "770                    1.192483                   1.046548              NaN   \n",
              "\n",
              "      away_team_score  home_team_postgame_rating  away_team_postgame_rating  \\\n",
              "819               NaN                        NaN                        NaN   \n",
              "392               NaN                        NaN                        NaN   \n",
              "1257              NaN                        NaN                        NaN   \n",
              "1021              NaN                        NaN                        NaN   \n",
              "770               NaN                        NaN                        NaN   \n",
              "\n",
              "      game_quality_rating  game_importance_rating  game_overall_rating  \n",
              "819                    75                      94                   84  \n",
              "392                    75                      91                   83  \n",
              "1257                   90                      75                   82  \n",
              "1021                   68                      97                   82  \n",
              "770                    80                      84                   82  \n",
              "\n",
              "[5 rows x 24 columns]"
            ]
          },
          "execution_count": 3,
          "metadata": {},
          "output_type": "execute_result"
        }
      ],
      "source": [
        "#Sorting the games in descending order based on'game_overall_rating'\n",
        "sorted_nhl_df = nhl_df.sort_values(by=['game_overall_rating'], ascending=False)\n",
        "sorted_nhl_df.head()"
      ]
    },
    {
      "cell_type": "code",
      "execution_count": null,
      "metadata": {
        "colab": {
          "base_uri": "https://localhost:8080/",
          "height": 363
        },
        "id": "JhLq6lHj9sfo",
        "outputId": "367be58d-1c05-4598-e5c9-f2c2883cc2d2"
      },
      "outputs": [
        {
          "data": {
            "text/html": [
              "\n",
              "  <div id=\"df-bb75c26e-c550-454a-9bf6-36be1f2b2bdb\">\n",
              "    <div class=\"colab-df-container\">\n",
              "      <div>\n",
              "<style scoped>\n",
              "    .dataframe tbody tr th:only-of-type {\n",
              "        vertical-align: middle;\n",
              "    }\n",
              "\n",
              "    .dataframe tbody tr th {\n",
              "        vertical-align: top;\n",
              "    }\n",
              "\n",
              "    .dataframe thead th {\n",
              "        text-align: right;\n",
              "    }\n",
              "</style>\n",
              "<table border=\"1\" class=\"dataframe\">\n",
              "  <thead>\n",
              "    <tr style=\"text-align: right;\">\n",
              "      <th></th>\n",
              "      <th>home_team</th>\n",
              "      <th>away_team</th>\n",
              "      <th>overall_rating</th>\n",
              "    </tr>\n",
              "  </thead>\n",
              "  <tbody>\n",
              "    <tr>\n",
              "      <th>0</th>\n",
              "      <td>Dallas Stars</td>\n",
              "      <td>Minnesota Wild</td>\n",
              "      <td>84</td>\n",
              "    </tr>\n",
              "    <tr>\n",
              "      <th>1</th>\n",
              "      <td>Dallas Stars</td>\n",
              "      <td>Minnesota Wild</td>\n",
              "      <td>83</td>\n",
              "    </tr>\n",
              "    <tr>\n",
              "      <th>2</th>\n",
              "      <td>Minnesota Wild</td>\n",
              "      <td>St. Louis Blues</td>\n",
              "      <td>82</td>\n",
              "    </tr>\n",
              "    <tr>\n",
              "      <th>3</th>\n",
              "      <td>Winnipeg Jets</td>\n",
              "      <td>Minnesota Wild</td>\n",
              "      <td>82</td>\n",
              "    </tr>\n",
              "    <tr>\n",
              "      <th>4</th>\n",
              "      <td>Washington Capitals</td>\n",
              "      <td>Pittsburgh Penguins</td>\n",
              "      <td>82</td>\n",
              "    </tr>\n",
              "    <tr>\n",
              "      <th>5</th>\n",
              "      <td>New York Islanders</td>\n",
              "      <td>Tampa Bay Lightning</td>\n",
              "      <td>82</td>\n",
              "    </tr>\n",
              "    <tr>\n",
              "      <th>6</th>\n",
              "      <td>Minnesota Wild</td>\n",
              "      <td>Dallas Stars</td>\n",
              "      <td>82</td>\n",
              "    </tr>\n",
              "    <tr>\n",
              "      <th>7</th>\n",
              "      <td>Washington Capitals</td>\n",
              "      <td>New York Rangers</td>\n",
              "      <td>81</td>\n",
              "    </tr>\n",
              "    <tr>\n",
              "      <th>8</th>\n",
              "      <td>New York Islanders</td>\n",
              "      <td>Toronto Maple Leafs</td>\n",
              "      <td>80</td>\n",
              "    </tr>\n",
              "    <tr>\n",
              "      <th>9</th>\n",
              "      <td>Minnesota Wild</td>\n",
              "      <td>Dallas Stars</td>\n",
              "      <td>80</td>\n",
              "    </tr>\n",
              "  </tbody>\n",
              "</table>\n",
              "</div>\n",
              "      <button class=\"colab-df-convert\" onclick=\"convertToInteractive('df-bb75c26e-c550-454a-9bf6-36be1f2b2bdb')\"\n",
              "              title=\"Convert this dataframe to an interactive table.\"\n",
              "              style=\"display:none;\">\n",
              "        \n",
              "  <svg xmlns=\"http://www.w3.org/2000/svg\" height=\"24px\"viewBox=\"0 0 24 24\"\n",
              "       width=\"24px\">\n",
              "    <path d=\"M0 0h24v24H0V0z\" fill=\"none\"/>\n",
              "    <path d=\"M18.56 5.44l.94 2.06.94-2.06 2.06-.94-2.06-.94-.94-2.06-.94 2.06-2.06.94zm-11 1L8.5 8.5l.94-2.06 2.06-.94-2.06-.94L8.5 2.5l-.94 2.06-2.06.94zm10 10l.94 2.06.94-2.06 2.06-.94-2.06-.94-.94-2.06-.94 2.06-2.06.94z\"/><path d=\"M17.41 7.96l-1.37-1.37c-.4-.4-.92-.59-1.43-.59-.52 0-1.04.2-1.43.59L10.3 9.45l-7.72 7.72c-.78.78-.78 2.05 0 2.83L4 21.41c.39.39.9.59 1.41.59.51 0 1.02-.2 1.41-.59l7.78-7.78 2.81-2.81c.8-.78.8-2.07 0-2.86zM5.41 20L4 18.59l7.72-7.72 1.47 1.35L5.41 20z\"/>\n",
              "  </svg>\n",
              "      </button>\n",
              "      \n",
              "  <style>\n",
              "    .colab-df-container {\n",
              "      display:flex;\n",
              "      flex-wrap:wrap;\n",
              "      gap: 12px;\n",
              "    }\n",
              "\n",
              "    .colab-df-convert {\n",
              "      background-color: #E8F0FE;\n",
              "      border: none;\n",
              "      border-radius: 50%;\n",
              "      cursor: pointer;\n",
              "      display: none;\n",
              "      fill: #1967D2;\n",
              "      height: 32px;\n",
              "      padding: 0 0 0 0;\n",
              "      width: 32px;\n",
              "    }\n",
              "\n",
              "    .colab-df-convert:hover {\n",
              "      background-color: #E2EBFA;\n",
              "      box-shadow: 0px 1px 2px rgba(60, 64, 67, 0.3), 0px 1px 3px 1px rgba(60, 64, 67, 0.15);\n",
              "      fill: #174EA6;\n",
              "    }\n",
              "\n",
              "    [theme=dark] .colab-df-convert {\n",
              "      background-color: #3B4455;\n",
              "      fill: #D2E3FC;\n",
              "    }\n",
              "\n",
              "    [theme=dark] .colab-df-convert:hover {\n",
              "      background-color: #434B5C;\n",
              "      box-shadow: 0px 1px 3px 1px rgba(0, 0, 0, 0.15);\n",
              "      filter: drop-shadow(0px 1px 2px rgba(0, 0, 0, 0.3));\n",
              "      fill: #FFFFFF;\n",
              "    }\n",
              "  </style>\n",
              "\n",
              "      <script>\n",
              "        const buttonEl =\n",
              "          document.querySelector('#df-bb75c26e-c550-454a-9bf6-36be1f2b2bdb button.colab-df-convert');\n",
              "        buttonEl.style.display =\n",
              "          google.colab.kernel.accessAllowed ? 'block' : 'none';\n",
              "\n",
              "        async function convertToInteractive(key) {\n",
              "          const element = document.querySelector('#df-bb75c26e-c550-454a-9bf6-36be1f2b2bdb');\n",
              "          const dataTable =\n",
              "            await google.colab.kernel.invokeFunction('convertToInteractive',\n",
              "                                                     [key], {});\n",
              "          if (!dataTable) return;\n",
              "\n",
              "          const docLinkHtml = 'Like what you see? Visit the ' +\n",
              "            '<a target=\"_blank\" href=https://colab.research.google.com/notebooks/data_table.ipynb>data table notebook</a>'\n",
              "            + ' to learn more about interactive tables.';\n",
              "          element.innerHTML = '';\n",
              "          dataTable['output_type'] = 'display_data';\n",
              "          await google.colab.output.renderOutput(dataTable, element);\n",
              "          const docLink = document.createElement('div');\n",
              "          docLink.innerHTML = docLinkHtml;\n",
              "          element.appendChild(docLink);\n",
              "        }\n",
              "      </script>\n",
              "    </div>\n",
              "  </div>\n",
              "  "
            ],
            "text/plain": [
              "             home_team            away_team  overall_rating\n",
              "0         Dallas Stars       Minnesota Wild              84\n",
              "1         Dallas Stars       Minnesota Wild              83\n",
              "2       Minnesota Wild      St. Louis Blues              82\n",
              "3        Winnipeg Jets       Minnesota Wild              82\n",
              "4  Washington Capitals  Pittsburgh Penguins              82\n",
              "5   New York Islanders  Tampa Bay Lightning              82\n",
              "6       Minnesota Wild         Dallas Stars              82\n",
              "7  Washington Capitals     New York Rangers              81\n",
              "8   New York Islanders  Toronto Maple Leafs              80\n",
              "9       Minnesota Wild         Dallas Stars              80"
            ]
          },
          "execution_count": 4,
          "metadata": {},
          "output_type": "execute_result"
        }
      ],
      "source": [
        "team_pairs = pd.DataFrame() #We create a dataframe that will show us only the home and away team pairs plus the ratings\n",
        "team_pairs['home_team'] = sorted_nhl_df['home_team']\n",
        "team_pairs['away_team'] = sorted_nhl_df['away_team']\n",
        "team_pairs['overall_rating'] = sorted_nhl_df['game_overall_rating']\n",
        "team_pairs = team_pairs.reset_index().head(10)\n",
        "del team_pairs['index']\n",
        "team_pairs.head(10)"
      ]
    },
    {
      "cell_type": "code",
      "execution_count": null,
      "metadata": {
        "id": "eFjfSxvP9sfo"
      },
      "outputs": [],
      "source": [
        "#Lets create a plot to visualize this\n",
        "values = team_pairs['overall_rating'].values#The rating values\n",
        "#lets now generate the team pairs\n",
        "labels = []\n",
        "for i in range(0,10):\n",
        "    home_team = sorted_nhl_df['home_team'].loc[i]\n",
        "    away_team = sorted_nhl_df['away_team'].loc[i]\n",
        "    pair = home_team + ' VS ' + away_team\n",
        "    labels.append(pair)"
      ]
    },
    {
      "cell_type": "code",
      "execution_count": null,
      "metadata": {
        "colab": {
          "base_uri": "https://localhost:8080/",
          "height": 571
        },
        "id": "QIGXDzbH9sfo",
        "outputId": "602b7ffc-053e-4ad0-9f69-970bb09d342f"
      },
      "outputs": [
        {
          "data": {
            "image/png": "[encoded data removed]",
            "text/plain": [
              "<Figure size 720x360 with 1 Axes>"
            ]
          },
          "metadata": {
            "needs_background": "light"
          },
          "output_type": "display_data"
        }
      ],
      "source": [
        "fig = plt.figure(figsize = (10, 5))\n",
        " \n",
        "y_pos = range(len(labels))\n",
        "plt.bar(y_pos, values)\n",
        "plt.xticks(y_pos, labels, rotation=90)\n",
        "plt.xlabel('Teams')\n",
        "plt.ylabel('Overall_Rating')\n",
        "plt.title('Overall Game Ratings')\n",
        "plt.savefig('OverallGameRatings')\n",
        "plt.show()"
      ]
    },
    {
      "cell_type": "markdown",
      "metadata": {
        "id": "V7OuqEFs9sfo"
      },
      "source": [
        "### Kaggle Dataset"
      ]
    },
    {
      "cell_type": "markdown",
      "metadata": {
        "id": "U8N4_IZx9sfo"
      },
      "source": [
        "- The aim is to find out the correlation between hapiness score and the GDP per capita in various countries"
      ]
    },
    {
      "cell_type": "code",
      "execution_count": null,
      "metadata": {
        "colab": {
          "base_uri": "https://localhost:8080/"
        },
        "id": "qv-KrKdV9sfo",
        "outputId": "76cfe3a4-0606-4c99-d4e4-ce3fb1fdbbd3"
      },
      "outputs": [
        {
          "name": "stdout",
          "output_type": "stream",
          "text": [
            "Looking in indexes: https://pypi.org/simple, https://us-python.pkg.dev/colab-wheels/public/simple/\n",
            "Collecting opendatasets\n",
            "  Downloading opendatasets-0.1.22-py3-none-any.whl (15 kB)\n",
            "Requirement already satisfied: click in /usr/local/lib/python3.7/dist-packages (from opendatasets) (7.1.2)\n",
            "Requirement already satisfied: kaggle in /usr/local/lib/python3.7/dist-packages (from opendatasets) (1.5.12)\n",
            "Requirement already satisfied: tqdm in /usr/local/lib/python3.7/dist-packages (from opendatasets) (4.64.1)\n",
            "Requirement already satisfied: certifi in /usr/local/lib/python3.7/dist-packages (from kaggle->opendatasets) (2022.9.24)\n",
            "Requirement already satisfied: python-slugify in /usr/local/lib/python3.7/dist-packages (from kaggle->opendatasets) (6.1.2)\n",
            "Requirement already satisfied: python-dateutil in /usr/local/lib/python3.7/dist-packages (from kaggle->opendatasets) (2.8.2)\n",
            "Requirement already satisfied: requests in /usr/local/lib/python3.7/dist-packages (from kaggle->opendatasets) (2.23.0)\n",
            "Requirement already satisfied: six>=1.10 in /usr/local/lib/python3.7/dist-packages (from kaggle->opendatasets) (1.15.0)\n",
            "Requirement already satisfied: urllib3 in /usr/local/lib/python3.7/dist-packages (from kaggle->opendatasets) (1.24.3)\n",
            "Requirement already satisfied: text-unidecode>=1.3 in /usr/local/lib/python3.7/dist-packages (from python-slugify->kaggle->opendatasets) (1.3)\n",
            "Requirement already satisfied: idna<3,>=2.5 in /usr/local/lib/python3.7/dist-packages (from requests->kaggle->opendatasets) (2.10)\n",
            "Requirement already satisfied: chardet<4,>=3.0.2 in /usr/local/lib/python3.7/dist-packages (from requests->kaggle->opendatasets) (3.0.4)\n",
            "Installing collected packages: opendatasets\n",
            "Successfully installed opendatasets-0.1.22\n"
          ]
        }
      ],
      "source": [
        "! pip install opendatasets"
      ]
    },
    {
      "cell_type": "code",
      "execution_count": null,
      "metadata": {
        "id": "WT3_mIeF9sfo"
      },
      "outputs": [],
      "source": [
        "import opendatasets as od"
      ]
    },
    {
      "cell_type": "code",
      "execution_count": null,
      "metadata": {
        "id": "MsV3CR6S9sfp"
      },
      "outputs": [],
      "source": [
        "dataset = 'https://www.kaggle.com/datasets/unsdsn/world-happiness'"
      ]
    },
    {
      "cell_type": "code",
      "execution_count": null,
      "metadata": {
        "colab": {
          "base_uri": "https://localhost:8080/"
        },
        "id": "eehceKEy9sfp",
        "outputId": "e74645ab-1383-407a-ad2a-2954f0481441"
      },
      "outputs": [
        {
          "name": "stdout",
          "output_type": "stream",
          "text": [
            "Please provide your Kaggle credentials to download this dataset. Learn more: http://bit.ly/kaggle-creds\n",
            "Your Kaggle username: rafaeldjamous\n",
            "Your Kaggle Key: ··········\n",
            "Downloading world-happiness.zip to ./world-happiness\n"
          ]
        },
        {
          "name": "stderr",
          "output_type": "stream",
          "text": [
            "100%|██████████| 36.8k/36.8k [00:00<00:00, 9.57MB/s]"
          ]
        },
        {
          "name": "stdout",
          "output_type": "stream",
          "text": [
            "\n"
          ]
        },
        {
          "name": "stderr",
          "output_type": "stream",
          "text": [
            "\n"
          ]
        }
      ],
      "source": [
        "od.download(dataset)"
      ]
    },
    {
      "cell_type": "code",
      "execution_count": null,
      "metadata": {
        "id": "JUljOSKG9sfp"
      },
      "outputs": [],
      "source": [
        "df = pd.read_csv('./world-happiness/2019.csv')"
      ]
    },
    {
      "cell_type": "code",
      "execution_count": null,
      "metadata": {
        "colab": {
          "base_uri": "https://localhost:8080/",
          "height": 285
        },
        "id": "Tttx_xtA9sfp",
        "outputId": "e8c6403e-12ac-4089-cdbe-222e2cc9fa6f"
      },
      "outputs": [
        {
          "data": {
            "text/html": [
              "\n",
              "  <div id=\"df-e590365d-9079-498b-b39b-30e710af2888\">\n",
              "    <div class=\"colab-df-container\">\n",
              "      <div>\n",
              "<style scoped>\n",
              "    .dataframe tbody tr th:only-of-type {\n",
              "        vertical-align: middle;\n",
              "    }\n",
              "\n",
              "    .dataframe tbody tr th {\n",
              "        vertical-align: top;\n",
              "    }\n",
              "\n",
              "    .dataframe thead th {\n",
              "        text-align: right;\n",
              "    }\n",
              "</style>\n",
              "<table border=\"1\" class=\"dataframe\">\n",
              "  <thead>\n",
              "    <tr style=\"text-align: right;\">\n",
              "      <th></th>\n",
              "      <th>Overall rank</th>\n",
              "      <th>Country or region</th>\n",
              "      <th>Score</th>\n",
              "      <th>GDP per capita</th>\n",
              "      <th>Social support</th>\n",
              "      <th>Healthy life expectancy</th>\n",
              "      <th>Freedom to make life choices</th>\n",
              "      <th>Generosity</th>\n",
              "      <th>Perceptions of corruption</th>\n",
              "    </tr>\n",
              "  </thead>\n",
              "  <tbody>\n",
              "    <tr>\n",
              "      <th>0</th>\n",
              "      <td>1</td>\n",
              "      <td>Finland</td>\n",
              "      <td>7.769</td>\n",
              "      <td>1.340</td>\n",
              "      <td>1.587</td>\n",
              "      <td>0.986</td>\n",
              "      <td>0.596</td>\n",
              "      <td>0.153</td>\n",
              "      <td>0.393</td>\n",
              "    </tr>\n",
              "    <tr>\n",
              "      <th>1</th>\n",
              "      <td>2</td>\n",
              "      <td>Denmark</td>\n",
              "      <td>7.600</td>\n",
              "      <td>1.383</td>\n",
              "      <td>1.573</td>\n",
              "      <td>0.996</td>\n",
              "      <td>0.592</td>\n",
              "      <td>0.252</td>\n",
              "      <td>0.410</td>\n",
              "    </tr>\n",
              "    <tr>\n",
              "      <th>2</th>\n",
              "      <td>3</td>\n",
              "      <td>Norway</td>\n",
              "      <td>7.554</td>\n",
              "      <td>1.488</td>\n",
              "      <td>1.582</td>\n",
              "      <td>1.028</td>\n",
              "      <td>0.603</td>\n",
              "      <td>0.271</td>\n",
              "      <td>0.341</td>\n",
              "    </tr>\n",
              "    <tr>\n",
              "      <th>3</th>\n",
              "      <td>4</td>\n",
              "      <td>Iceland</td>\n",
              "      <td>7.494</td>\n",
              "      <td>1.380</td>\n",
              "      <td>1.624</td>\n",
              "      <td>1.026</td>\n",
              "      <td>0.591</td>\n",
              "      <td>0.354</td>\n",
              "      <td>0.118</td>\n",
              "    </tr>\n",
              "    <tr>\n",
              "      <th>4</th>\n",
              "      <td>5</td>\n",
              "      <td>Netherlands</td>\n",
              "      <td>7.488</td>\n",
              "      <td>1.396</td>\n",
              "      <td>1.522</td>\n",
              "      <td>0.999</td>\n",
              "      <td>0.557</td>\n",
              "      <td>0.322</td>\n",
              "      <td>0.298</td>\n",
              "    </tr>\n",
              "  </tbody>\n",
              "</table>\n",
              "</div>\n",
              "      <button class=\"colab-df-convert\" onclick=\"convertToInteractive('df-e590365d-9079-498b-b39b-30e710af2888')\"\n",
              "              title=\"Convert this dataframe to an interactive table.\"\n",
              "              style=\"display:none;\">\n",
              "        \n",
              "  <svg xmlns=\"http://www.w3.org/2000/svg\" height=\"24px\"viewBox=\"0 0 24 24\"\n",
              "       width=\"24px\">\n",
              "    <path d=\"M0 0h24v24H0V0z\" fill=\"none\"/>\n",
              "    <path d=\"M18.56 5.44l.94 2.06.94-2.06 2.06-.94-2.06-.94-.94-2.06-.94 2.06-2.06.94zm-11 1L8.5 8.5l.94-2.06 2.06-.94-2.06-.94L8.5 2.5l-.94 2.06-2.06.94zm10 10l.94 2.06.94-2.06 2.06-.94-2.06-.94-.94-2.06-.94 2.06-2.06.94z\"/><path d=\"M17.41 7.96l-1.37-1.37c-.4-.4-.92-.59-1.43-.59-.52 0-1.04.2-1.43.59L10.3 9.45l-7.72 7.72c-.78.78-.78 2.05 0 2.83L4 21.41c.39.39.9.59 1.41.59.51 0 1.02-.2 1.41-.59l7.78-7.78 2.81-2.81c.8-.78.8-2.07 0-2.86zM5.41 20L4 18.59l7.72-7.72 1.47 1.35L5.41 20z\"/>\n",
              "  </svg>\n",
              "      </button>\n",
              "      \n",
              "  <style>\n",
              "    .colab-df-container {\n",
              "      display:flex;\n",
              "      flex-wrap:wrap;\n",
              "      gap: 12px;\n",
              "    }\n",
              "\n",
              "    .colab-df-convert {\n",
              "      background-color: #E8F0FE;\n",
              "      border: none;\n",
              "      border-radius: 50%;\n",
              "      cursor: pointer;\n",
              "      display: none;\n",
              "      fill: #1967D2;\n",
              "      height: 32px;\n",
              "      padding: 0 0 0 0;\n",
              "      width: 32px;\n",
              "    }\n",
              "\n",
              "    .colab-df-convert:hover {\n",
              "      background-color: #E2EBFA;\n",
              "      box-shadow: 0px 1px 2px rgba(60, 64, 67, 0.3), 0px 1px 3px 1px rgba(60, 64, 67, 0.15);\n",
              "      fill: #174EA6;\n",
              "    }\n",
              "\n",
              "    [theme=dark] .colab-df-convert {\n",
              "      background-color: #3B4455;\n",
              "      fill: #D2E3FC;\n",
              "    }\n",
              "\n",
              "    [theme=dark] .colab-df-convert:hover {\n",
              "      background-color: #434B5C;\n",
              "      box-shadow: 0px 1px 3px 1px rgba(0, 0, 0, 0.15);\n",
              "      filter: drop-shadow(0px 1px 2px rgba(0, 0, 0, 0.3));\n",
              "      fill: #FFFFFF;\n",
              "    }\n",
              "  </style>\n",
              "\n",
              "      <script>\n",
              "        const buttonEl =\n",
              "          document.querySelector('#df-e590365d-9079-498b-b39b-30e710af2888 button.colab-df-convert');\n",
              "        buttonEl.style.display =\n",
              "          google.colab.kernel.accessAllowed ? 'block' : 'none';\n",
              "\n",
              "        async function convertToInteractive(key) {\n",
              "          const element = document.querySelector('#df-e590365d-9079-498b-b39b-30e710af2888');\n",
              "          const dataTable =\n",
              "            await google.colab.kernel.invokeFunction('convertToInteractive',\n",
              "                                                     [key], {});\n",
              "          if (!dataTable) return;\n",
              "\n",
              "          const docLinkHtml = 'Like what you see? Visit the ' +\n",
              "            '<a target=\"_blank\" href=https://colab.research.google.com/notebooks/data_table.ipynb>data table notebook</a>'\n",
              "            + ' to learn more about interactive tables.';\n",
              "          element.innerHTML = '';\n",
              "          dataTable['output_type'] = 'display_data';\n",
              "          await google.colab.output.renderOutput(dataTable, element);\n",
              "          const docLink = document.createElement('div');\n",
              "          docLink.innerHTML = docLinkHtml;\n",
              "          element.appendChild(docLink);\n",
              "        }\n",
              "      </script>\n",
              "    </div>\n",
              "  </div>\n",
              "  "
            ],
            "text/plain": [
              "   Overall rank Country or region  Score  GDP per capita  Social support  \\\n",
              "0             1           Finland  7.769           1.340           1.587   \n",
              "1             2           Denmark  7.600           1.383           1.573   \n",
              "2             3            Norway  7.554           1.488           1.582   \n",
              "3             4           Iceland  7.494           1.380           1.624   \n",
              "4             5       Netherlands  7.488           1.396           1.522   \n",
              "\n",
              "   Healthy life expectancy  Freedom to make life choices  Generosity  \\\n",
              "0                    0.986                         0.596       0.153   \n",
              "1                    0.996                         0.592       0.252   \n",
              "2                    1.028                         0.603       0.271   \n",
              "3                    1.026                         0.591       0.354   \n",
              "4                    0.999                         0.557       0.322   \n",
              "\n",
              "   Perceptions of corruption  \n",
              "0                      0.393  \n",
              "1                      0.410  \n",
              "2                      0.341  \n",
              "3                      0.118  \n",
              "4                      0.298  "
            ]
          },
          "execution_count": 14,
          "metadata": {},
          "output_type": "execute_result"
        }
      ],
      "source": [
        "df.head()"
      ]
    },
    {
      "cell_type": "code",
      "execution_count": null,
      "metadata": {
        "colab": {
          "base_uri": "https://localhost:8080/",
          "height": 382
        },
        "id": "5uBjWAZ89sfp",
        "outputId": "8ae36488-0af8-470e-b681-1dfc0c7c9d5a"
      },
      "outputs": [
        {
          "data": {
            "image/png": "[encoded data removed]",
            "text/plain": [
              "<Figure size 360x360 with 1 Axes>"
            ]
          },
          "metadata": {
            "needs_background": "light"
          },
          "output_type": "display_data"
        }
      ],
      "source": [
        "sns.lmplot(x='GDP per capita', y='Score',data=df,fit_reg=True) \n",
        "plt.title('Hapiness Score vs GDP')\n",
        "plt.savefig('HapinessScoreVsGDP')\n",
        "plt.show()"
      ]
    },
    {
      "cell_type": "code",
      "execution_count": null,
      "metadata": {
        "colab": {
          "base_uri": "https://localhost:8080/"
        },
        "id": "FTV2YhNP7dZx",
        "outputId": "90e69848-c6cb-467d-c778-23345489564a"
      },
      "outputs": [
        {
          "name": "stdout",
          "output_type": "stream",
          "text": [
            "[NbConvertApp] Converting notebook /content/milestone1_project.ipynb to html\n",
            "[NbConvertApp] Writing 392222 bytes to /content/milestone1_project.html\n"
          ]
        },
        {
          "data": {
            "text/plain": []
          },
          "execution_count": 1,
          "metadata": {},
          "output_type": "execute_result"
        }
      ],
      "source": [
        "%%shell\n",
        "jupyter nbconvert --to html /content/milestone1_project.ipynb"
      ]
    },
    {
      "cell_type": "code",
      "execution_count": null,
      "metadata": {
        "id": "51U9NzgG8sqI"
      },
      "outputs": [],
      "source": []
    }
  ],
  "metadata": {
    "colab": {
      "collapsed_sections": [],
      "provenance": []
    },
    "kernelspec": {
      "display_name": "Python 3.9.6 64-bit",
      "language": "python",
      "name": "python3"
    },
    "language_info": {
      "codemirror_mode": {
        "name": "ipython",
        "version": 3
      },
      "file_extension": ".py",
      "mimetype": "text/x-python",
      "name": "python",
      "nbconvert_exporter": "python",
      "pygments_lexer": "ipython3",
      "version": "3.9.6"
    },
    "vscode": {
      "interpreter": {
        "hash": "31f2aee4e71d21fbe5cf8b01ff0e069b9275f58929596ceb00d14d90e3e16cd6"
      }
    }
  },
  "nbformat": 4,
  "nbformat_minor": 0
}
